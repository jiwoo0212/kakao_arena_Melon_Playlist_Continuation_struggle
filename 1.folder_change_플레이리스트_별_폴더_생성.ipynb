{
 "cells": [
  {
   "cell_type": "code",
   "execution_count": 6,
   "metadata": {},
   "outputs": [],
   "source": [
    "import pandas as pd\n",
    "train_all= pd.read_json('train.json', encoding='utf-8', typ = 'frame')\n",
    "train_all=train_all.sort_values(by='like_cnt', ascending=False)"
   ]
  },
  {
   "cell_type": "code",
   "execution_count": 7,
   "metadata": {},
   "outputs": [],
   "source": [
    "plyst_song=train_all[['id','songs']]"
   ]
  },
  {
   "cell_type": "code",
   "execution_count": 8,
   "metadata": {},
   "outputs": [
    {
     "data": {
      "text/html": [
       "<div>\n",
       "<style scoped>\n",
       "    .dataframe tbody tr th:only-of-type {\n",
       "        vertical-align: middle;\n",
       "    }\n",
       "\n",
       "    .dataframe tbody tr th {\n",
       "        vertical-align: top;\n",
       "    }\n",
       "\n",
       "    .dataframe thead th {\n",
       "        text-align: right;\n",
       "    }\n",
       "</style>\n",
       "<table border=\"1\" class=\"dataframe\">\n",
       "  <thead>\n",
       "    <tr style=\"text-align: right;\">\n",
       "      <th></th>\n",
       "      <th>id</th>\n",
       "      <th>songs</th>\n",
       "    </tr>\n",
       "  </thead>\n",
       "  <tbody>\n",
       "    <tr>\n",
       "      <td>46524</td>\n",
       "      <td>74220</td>\n",
       "      <td>[159317, 368264, 600999, 274905, 643023, 24070...</td>\n",
       "    </tr>\n",
       "    <tr>\n",
       "      <td>85071</td>\n",
       "      <td>122388</td>\n",
       "      <td>[532771, 383775, 432753, 176384, 152694, 60126...</td>\n",
       "    </tr>\n",
       "    <tr>\n",
       "      <td>102651</td>\n",
       "      <td>26174</td>\n",
       "      <td>[40160, 20039, 561488, 20051, 16242, 256568, 7...</td>\n",
       "    </tr>\n",
       "    <tr>\n",
       "      <td>101464</td>\n",
       "      <td>72658</td>\n",
       "      <td>[111779, 406878, 417725, 129878, 357770, 34879...</td>\n",
       "    </tr>\n",
       "    <tr>\n",
       "      <td>59894</td>\n",
       "      <td>113501</td>\n",
       "      <td>[342524, 1233, 417666, 394523, 107455, 17206, ...</td>\n",
       "    </tr>\n",
       "    <tr>\n",
       "      <td>...</td>\n",
       "      <td>...</td>\n",
       "      <td>...</td>\n",
       "    </tr>\n",
       "    <tr>\n",
       "      <td>89350</td>\n",
       "      <td>79006</td>\n",
       "      <td>[636915, 630796, 338728, 312927, 99877, 302881...</td>\n",
       "    </tr>\n",
       "    <tr>\n",
       "      <td>7770</td>\n",
       "      <td>21961</td>\n",
       "      <td>[370157, 330547, 444905, 321020, 628137, 10319...</td>\n",
       "    </tr>\n",
       "    <tr>\n",
       "      <td>38652</td>\n",
       "      <td>61029</td>\n",
       "      <td>[470636, 433113, 450325, 417071, 576846, 33327...</td>\n",
       "    </tr>\n",
       "    <tr>\n",
       "      <td>7144</td>\n",
       "      <td>114735</td>\n",
       "      <td>[194839, 465905, 47738, 70860, 576152, 182135,...</td>\n",
       "    </tr>\n",
       "    <tr>\n",
       "      <td>51069</td>\n",
       "      <td>138111</td>\n",
       "      <td>[221282, 188147, 36853, 341996, 65031, 57626, ...</td>\n",
       "    </tr>\n",
       "  </tbody>\n",
       "</table>\n",
       "<p>30000 rows × 2 columns</p>\n",
       "</div>"
      ],
      "text/plain": [
       "            id                                              songs\n",
       "46524    74220  [159317, 368264, 600999, 274905, 643023, 24070...\n",
       "85071   122388  [532771, 383775, 432753, 176384, 152694, 60126...\n",
       "102651   26174  [40160, 20039, 561488, 20051, 16242, 256568, 7...\n",
       "101464   72658  [111779, 406878, 417725, 129878, 357770, 34879...\n",
       "59894   113501  [342524, 1233, 417666, 394523, 107455, 17206, ...\n",
       "...        ...                                                ...\n",
       "89350    79006  [636915, 630796, 338728, 312927, 99877, 302881...\n",
       "7770     21961  [370157, 330547, 444905, 321020, 628137, 10319...\n",
       "38652    61029  [470636, 433113, 450325, 417071, 576846, 33327...\n",
       "7144    114735  [194839, 465905, 47738, 70860, 576152, 182135,...\n",
       "51069   138111  [221282, 188147, 36853, 341996, 65031, 57626, ...\n",
       "\n",
       "[30000 rows x 2 columns]"
      ]
     },
     "execution_count": 8,
     "metadata": {},
     "output_type": "execute_result"
    }
   ],
   "source": [
    "plyst_song = plyst_song[:30000]\n",
    "plyst_song"
   ]
  },
  {
   "cell_type": "code",
   "execution_count": 10,
   "metadata": {},
   "outputs": [
    {
     "data": {
      "text/html": [
       "<div>\n",
       "<style scoped>\n",
       "    .dataframe tbody tr th:only-of-type {\n",
       "        vertical-align: middle;\n",
       "    }\n",
       "\n",
       "    .dataframe tbody tr th {\n",
       "        vertical-align: top;\n",
       "    }\n",
       "\n",
       "    .dataframe thead th {\n",
       "        text-align: right;\n",
       "    }\n",
       "</style>\n",
       "<table border=\"1\" class=\"dataframe\">\n",
       "  <thead>\n",
       "    <tr style=\"text-align: right;\">\n",
       "      <th></th>\n",
       "      <th>id</th>\n",
       "      <th>songs</th>\n",
       "    </tr>\n",
       "  </thead>\n",
       "  <tbody>\n",
       "    <tr>\n",
       "      <td>4092</td>\n",
       "      <td>48486</td>\n",
       "      <td>[72021, 52649, 168446, 603681, 83559, 704104, ...</td>\n",
       "    </tr>\n",
       "  </tbody>\n",
       "</table>\n",
       "</div>"
      ],
      "text/plain": [
       "         id                                              songs\n",
       "4092  48486  [72021, 52649, 168446, 603681, 83559, 704104, ..."
      ]
     },
     "execution_count": 10,
     "metadata": {},
     "output_type": "execute_result"
    }
   ],
   "source": [
    "plyst_song[plyst_song['id']==48486]"
   ]
  },
  {
   "cell_type": "code",
   "execution_count": null,
   "metadata": {},
   "outputs": [],
   "source": [
    "# import shutil\n",
    "# import math\n",
    "\n",
    "# for i, row in plyst_song.iterrows():\n",
    "#     try:\n",
    "#         plyst_id=row['id']\n",
    "#         songs=row['songs']\n",
    "#         os.makedirs('D:/mel/'+str(plyst_id))\n",
    "#         for song in songs:\n",
    "#             folder=math.floor(song/1000)\n",
    "#             filename= str(song)+'.npy'\n",
    "#             src='D:/arena_mel/'+str(folder)+'/'\n",
    "#             dir= 'D:/mel/'+str(plyst_id)+'/'\n",
    "#             shutil.move(src+filename, dir+filename)\n",
    "#     except:\n",
    "#         continue"
   ]
  },
  {
   "cell_type": "code",
   "execution_count": null,
   "metadata": {},
   "outputs": [],
   "source": [
    "# import pickle\n",
    "# with open('dupli.txt','rb') as f:\n",
    "#     count=pickle.load(f)\n",
    "# count"
   ]
  },
  {
   "cell_type": "code",
   "execution_count": null,
   "metadata": {},
   "outputs": [],
   "source": [
    "# #plyst별로 폴더에 넣는 코드\n",
    "# import shutil\n",
    "# import math\n",
    "\n",
    "# for i, row in plyst_song.iterrows():\n",
    "#     try:\n",
    "#         plyst_id=row['id']\n",
    "#         songs=row['songs']\n",
    "#         os.makedirs('D:/test_mel_1/'+str(plyst_id))\n",
    "#         for song in songs:\n",
    "#             if count[song] == 1:\n",
    "#                 folder=math.floor(song/1000)\n",
    "#                 filename= str(song)+'.npy'\n",
    "#                 src='D:/test_arena_mel/'+str(folder)+'/'\n",
    "#                 dir= 'D:/test_mel_1/'+str(plyst_id)+'/'\n",
    "#                 shutil.move(src+filename, dir+filename)\n",
    "#             else:\n",
    "#                 folder=math.floor(song/1000)\n",
    "#                 filename= str(song)+'.npy'\n",
    "#                 src='D:/test_arena_mel/'+str(folder)+'/'+filename\n",
    "#                 dst= 'D:/test_mel_1/'+str(plyst_id)+'/'\n",
    "#                 shutil.copy(src, dst)\n",
    "                \n",
    "#     except:\n",
    "#         continue"
   ]
  },
  {
   "cell_type": "code",
   "execution_count": 4,
   "metadata": {},
   "outputs": [
    {
     "ename": "OSError",
     "evalue": "[WinError 112] 디스크 공간이 부족합니다: 'D:/mel_1/107136'",
     "output_type": "error",
     "traceback": [
      "\u001b[1;31m---------------------------------------------------------------------------\u001b[0m",
      "\u001b[1;31mOSError\u001b[0m                                   Traceback (most recent call last)",
      "\u001b[1;32m<ipython-input-4-01b641bcf2db>\u001b[0m in \u001b[0;36m<module>\u001b[1;34m\u001b[0m\n\u001b[0;32m      7\u001b[0m         \u001b[0mplyst_id\u001b[0m\u001b[1;33m=\u001b[0m\u001b[0mrow\u001b[0m\u001b[1;33m[\u001b[0m\u001b[1;34m'id'\u001b[0m\u001b[1;33m]\u001b[0m\u001b[1;33m\u001b[0m\u001b[1;33m\u001b[0m\u001b[0m\n\u001b[0;32m      8\u001b[0m         \u001b[0msongs\u001b[0m\u001b[1;33m=\u001b[0m\u001b[0mrow\u001b[0m\u001b[1;33m[\u001b[0m\u001b[1;34m'songs'\u001b[0m\u001b[1;33m]\u001b[0m\u001b[1;33m\u001b[0m\u001b[1;33m\u001b[0m\u001b[0m\n\u001b[1;32m----> 9\u001b[1;33m         \u001b[0mos\u001b[0m\u001b[1;33m.\u001b[0m\u001b[0mmakedirs\u001b[0m\u001b[1;33m(\u001b[0m\u001b[1;34m'D:/mel_1/'\u001b[0m\u001b[1;33m+\u001b[0m\u001b[0mstr\u001b[0m\u001b[1;33m(\u001b[0m\u001b[0mplyst_id\u001b[0m\u001b[1;33m)\u001b[0m\u001b[1;33m)\u001b[0m\u001b[1;33m\u001b[0m\u001b[1;33m\u001b[0m\u001b[0m\n\u001b[0m\u001b[0;32m     10\u001b[0m         \u001b[1;32mfor\u001b[0m \u001b[0msong\u001b[0m \u001b[1;32min\u001b[0m \u001b[0msongs\u001b[0m\u001b[1;33m:\u001b[0m\u001b[1;33m\u001b[0m\u001b[1;33m\u001b[0m\u001b[0m\n\u001b[0;32m     11\u001b[0m             \u001b[1;32mtry\u001b[0m\u001b[1;33m:\u001b[0m\u001b[1;33m\u001b[0m\u001b[1;33m\u001b[0m\u001b[0m\n",
      "\u001b[1;32m~\\Anaconda3\\lib\\os.py\u001b[0m in \u001b[0;36mmakedirs\u001b[1;34m(name, mode, exist_ok)\u001b[0m\n\u001b[0;32m    219\u001b[0m             \u001b[1;32mreturn\u001b[0m\u001b[1;33m\u001b[0m\u001b[1;33m\u001b[0m\u001b[0m\n\u001b[0;32m    220\u001b[0m     \u001b[1;32mtry\u001b[0m\u001b[1;33m:\u001b[0m\u001b[1;33m\u001b[0m\u001b[1;33m\u001b[0m\u001b[0m\n\u001b[1;32m--> 221\u001b[1;33m         \u001b[0mmkdir\u001b[0m\u001b[1;33m(\u001b[0m\u001b[0mname\u001b[0m\u001b[1;33m,\u001b[0m \u001b[0mmode\u001b[0m\u001b[1;33m)\u001b[0m\u001b[1;33m\u001b[0m\u001b[1;33m\u001b[0m\u001b[0m\n\u001b[0m\u001b[0;32m    222\u001b[0m     \u001b[1;32mexcept\u001b[0m \u001b[0mOSError\u001b[0m\u001b[1;33m:\u001b[0m\u001b[1;33m\u001b[0m\u001b[1;33m\u001b[0m\u001b[0m\n\u001b[0;32m    223\u001b[0m         \u001b[1;31m# Cannot rely on checking for EEXIST, since the operating system\u001b[0m\u001b[1;33m\u001b[0m\u001b[1;33m\u001b[0m\u001b[1;33m\u001b[0m\u001b[0m\n",
      "\u001b[1;31mOSError\u001b[0m: [WinError 112] 디스크 공간이 부족합니다: 'D:/mel_1/107136'"
     ]
    }
   ],
   "source": [
    "#plyst별로 폴더에 넣는 코드(copy이용)\n",
    "import shutil\n",
    "import math\n",
    "import os\n",
    "\n",
    "for i, row in plyst_song.iterrows():\n",
    "        plyst_id=row['id']\n",
    "        songs=row['songs']\n",
    "        os.makedirs('D:/mel_1/'+str(plyst_id))\n",
    "        for song in songs:\n",
    "            try: \n",
    "                folder=math.floor(song/1000)\n",
    "                filename= str(song)+'.npy'\n",
    "                src='K:/arena_share_folder/'+str(folder)+'/'+filename\n",
    "                dst= 'D:/mel_1/'+str(plyst_id)+'/'\n",
    "                shutil.copy(src, dst)\n",
    "            except:\n",
    "                continue"
   ]
  },
  {
   "cell_type": "code",
   "execution_count": null,
   "metadata": {},
   "outputs": [],
   "source": [
    "# import os\n",
    "# os.listdir('D:/arena_mel/432')"
   ]
  },
  {
   "cell_type": "code",
   "execution_count": null,
   "metadata": {},
   "outputs": [],
   "source": [
    "#폴더 옮기기 오류 났을때 되돌리는 코드\n",
    "root_dir = 'D:/mel/'\n",
    "for (_,_, file) in os.walk(root_dir): \n",
    "    for filename in file:\n",
    "        p_dir = filename[:3]\n",
    "        src = root_dir\n",
    "        dir = 'D:/arena_mel/'+str(p_dir)+'/'\n",
    "        shutil.move(src+filename, dir+filename)\n",
    "#     for n in np.arange(432,707):\n",
    "#         dir= 'D:/mel/'\n",
    "# #         shutil.move(src+filename, dir+filename)\n",
    "\n",
    "#         str(i)"
   ]
  },
  {
   "cell_type": "code",
   "execution_count": null,
   "metadata": {},
   "outputs": [],
   "source": []
  }
 ],
 "metadata": {
  "kernelspec": {
   "display_name": "Python 3",
   "language": "python",
   "name": "python3"
  },
  "language_info": {
   "codemirror_mode": {
    "name": "ipython",
    "version": 3
   },
   "file_extension": ".py",
   "mimetype": "text/x-python",
   "name": "python",
   "nbconvert_exporter": "python",
   "pygments_lexer": "ipython3",
   "version": "3.7.4"
  }
 },
 "nbformat": 4,
 "nbformat_minor": 4
}
